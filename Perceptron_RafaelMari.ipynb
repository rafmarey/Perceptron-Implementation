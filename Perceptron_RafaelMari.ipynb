{
  "nbformat": 4,
  "nbformat_minor": 0,
  "metadata": {
    "colab": {
      "provenance": []
    },
    "kernelspec": {
      "name": "python3",
      "display_name": "Python 3"
    },
    "language_info": {
      "name": "python"
    }
  },
  "cells": [
    {
      "cell_type": "markdown",
      "source": [
        "\n",
        "\n",
        "---\n",
        "\n",
        "\n",
        "\n",
        "---\n",
        "\n",
        "\n",
        "\n",
        "#Perceptron Algorithm\n",
        "\n",
        "---\n",
        "\n",
        "\n",
        "---\n",
        "\n",
        "\n"
      ],
      "metadata": {
        "id": "2it0-xjqasWO"
      }
    },
    {
      "cell_type": "markdown",
      "source": [
        "#a) Intuition behind the algorithm\n",
        "\n",
        "---\n",
        "\n",
        "The perceptron is a type of algorithm that reminds us of the nuerons we have in our brains. In this case, it is like an artificial neuron that is used for classification problems, specifically binary classification problems where there are 2 possile outputs. It is a simple algorithm and it is the base or foundation for neural networks, for example. It works in the following way:\n",
        "\n",
        "A perceptron makes decisions by first assigning a weight to the inputs given, this weight means how important each feature or input is. For example, when deciding wether or not to go to a party, you may give more importance to who is going to be there than how tired you are, and thus make a decision. After multiplying the weights with each feature, the perceptron sum the all the results as well as a bias which is external factors that could affect your result. Finally, it passes all of them through an activation function. If the output of this process is greather than a certain threshold, then the perceptron fires and returns a 1, otherwise, it returns a 0.\n",
        "\n",
        "Initially, small random values are assigned to the weights and bias, and the model will be trained by repeatedly making predictions and updating those parameters after each time it makes a wrong prediction, this is because a perceptron is an error-driven algorithm. It updates the parameters to optimize the model."
      ],
      "metadata": {
        "id": "FIiXiz0ObEfG"
      }
    },
    {
      "cell_type": "markdown",
      "source": [
        "#b) Pseudocode\n",
        "\n",
        "---\n",
        "\n",
        "Given:\n",
        "\n",
        "\n",
        "*   ***TrainingSet***: A set of training examples that include features and their target label, which can be 0 or 1.\n",
        "\n",
        "*   ***w***: A set of weights corresponding to the importance of each feature.\n",
        "\n",
        "*   ***lr***: The learning rate, a hyperparameter that tells the size of steps taken during the updating of the weights of the perceptron. It should be a small positive number.\n",
        "\n",
        "*   ***epochs***: The number of times the training set will be used to update the weights.\n",
        "\n",
        "*   ***b***: The bias is an additional input that allows the model to have more flexibility to fit the training data, often initialized to 0.\n",
        "\n",
        "*   ***Threshold***: A value that, if surpassed, will make the perceptron fire and return a 1 and otherwise, will not fire and will return a 0.\n",
        "\n",
        "\n",
        "We define:\n",
        "\n",
        "Perceptron(*TrainingSet, w, b, lr, epochs, threshold*)\n",
        "\n",
        "1.   **Initialization**: The weights and Bias are initialized. The Weights can be set to small random numbers or zeros. The Bias is often initialized to zero. The learning rate and epochs are set based on the problem and dataset.\n",
        "\n",
        "2.   **Sum of inputs**: Calculate the sum of the results of multiplying all features with their corresponding weight, and add the bias.\n",
        "\n",
        "3.   **Activation Function**: The activation function is applied to this sum to get the predicted label. If the result is greater than a certain threshold, it will return a 1, otherwise it will return a 0. The whole formula of this process is as follows:\n",
        "\n",
        "![image.png](data:image/png;base64,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)\n",
        "\n",
        "4.   **Error Calculation**: Compute the error as the difference between the true label and the predicted label.\n",
        "\n",
        "5.   **Weights update**: Based on the error obtained, the weights are updates using the following formula:\n",
        "\n",
        "![image.png](data:image/png;base64,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)\n",
        "\n",
        "6.   **Bias update**: The bias is also updated based on the error obtained and it uses the following formula:\n",
        "\n",
        "\n",
        "![image.png](data:image/png;base64,iVBORw0KGgoAAAANSUhEUgAAANsAAAAvCAYAAABqgL9PAAAAAXNSR0IArs4c6QAAAARnQU1BAACxjwv8YQUAAAAJcEhZcwAAEnQAABJ0Ad5mH3gAAAz1SURBVHhe7Z0JXFVVHsd/7MgiCLIqaKAOiqmIK25pqKSZqH2snNSp8aOfKcpMszKnrElrzFLLSixrtNS0VLQsNZNRMzJFEREUAdlkkUXZQbY5/8N9gKz33fe6vKnz/Xzuh/vOu6937znnd/7beWlUVlZeC4FA8LtjLP0VCAS/M0JsAoFKCLEJBCohxCYQqIQQm0CgEkJsAoFKCLEJBCohxCYQqIQQm0CgEkJsAoFKCLEZILW1tTj9ayTeXLsJZeXlUqugo8nLv41XV29AUnKa1KIdivdG0oS4mpCE9PRMxCcmw9TEFMEPToSzk6N0heFQXlGBmNh4pKZlICMrG+5uLpgWNAFmZmbSFYbFL2fO48vd+/H6iiVw6uqA6upqXIlPRAq7/6TkVNjaWOPh4AdgbWUlfUKgFglsrr+9PhQvLVmEXt49pVZ5KLZsVVVV+OHoCXyybTe+CfsB/z0VwQVoiOSzFWnbzr3Yvmsfv9erbOIaGxumUU9Nz8DmrTuw6Ik5XGhEJevrQ0fCseXzXfz+fzrxC+7cqeTvCdSFBPbw9CCse/9Tbum0QfGMI6uw5OknserlxbC0tECfXl5w6GInvWtYkCX74J1VmDV9Mn/tN7A/TExM+LkhUVVVjZ1fH0S/vr3h27eP1ApYWlhg+XOLELpxNdxdnaVWQUcxeqQ/LCzNse/gEa0MjM7LO7k2paVl8PbyMFi3jKisrERiUhqsrDqhh4e71Ko7F6JjsSl0u/RKN+ITruPM2ShMvn8sTE2bLwbm5mYwNTOVXgk6ChsbG0yaMAbHwk8h7Uam1No+OomNYokLF2P4JBjQv5/Uapjk3ypgkzkJnt3c0b2bq9SqO5WVVVzIukIr5NHjJ+HZ3Q29tYwFBOozsH9fkE07HXGurkEGOomttKwMKakZ6OrQBa7OXaVWwyTrZi5y82+hh6c7rDp1kloNh1u3CxEVHcdcyD6wsVY/8XH+4mUm9p/bdYtKSkvx5e4wdr8FUsufE0dHe3j19MDFmDjZGWOTlStXrpLOtSbpeiq+DvseA3z7YvCg/vj+aDhPWdt1tmHxmz2MjIykKzueH5nVOHf+EovbHmArUi32Mn878XoKurF4rpOlpXSV9tzIzEZaegZGDhsstSiDMrr7Dh7GzGmT0dOzu9R6N+XlFTh87AQ/f2DiOH7f6TeyEBN3FZdi4xF+8ld0Z5YxOSUd+787ytz7Uri5usiKTzuzMdux+wCKikrwl95eLY4dCW3Nuo+YG94NfgP6aTW+FGocPnYSoZ/txJGfTuIO8wY8urnVhx5ynqO6ugZRl+LYvEvBcXZNbl4+nJwceKLuV+Z+U0Kps60N/+9pKC4uZt93qv57bxcWNhtzJX1oZmqKxOQ0nI+KwdiAYbz/2kMnsUWyLwo/GcE7LvbqNYwcOhidbazx9nub2c2YwaePt0EIjty8A4d+wo2MLNaxmSgrK2dB7hBcZx26ftNWDB7oCwcHe+lq7dCX2M6cvcDjPxKbJgvZlJbE9suZSGxmE+lY+GkWP99Adk4uLsddY6ttBbZu38OuNOLP1x7mbNIPGzIAX+39DoWFxc3GTiM0/0H3Ysa0SVqNa0JSCp59YRWqa2rx1IK58GP3s2NPGHbuOcDPaWGW8xx9evXER598iTAmgt8iL/L3jp+IgL19Zxz8/kcmwAg2B/244MhCn42MxouvrYX3PZ6YP2cWxgQMRdzVBKzdEApvrx48cUYo7cPcvFv4MfxnBIzwl5W4UuxGauI1wp9ZtTdeWYIRQwdh/NiR7K8f68wDbBK2HTxmsIn6DBuEeQuXKjrWf/iZrHhJE6/R6jT30RkIWTiPWWMfzHhwEp+w23bt7/BUOg0yrZbaJpmCmOi++vx9TJl0HwoKi3AzJw9LQ56Em4v2WUsba2usWPYPnLtwCfu/PVrvUuoiNLqfNes+hCubjM8//QSPl3uxib588SJUMUtF84T6Xs5z2HW2xTtvvowN//4nFxQt9g9NDUTgfaNgYWEhXVVHdMwVvLp6PR6aEohHZ03jCxgd8x6biZkPBWHVmo2IvZLAr1Xah7RI1NTUICc3X2ppG8WpLU28Rop+/JFgnp4maCBMjI2Rx+Kj6ylp8Gwj8+fGPrvmtWU85a0EKjnImZyaeG38mBEYN3p4/WQxNjaCETsSk5J5DOLSgXFnNesDOztbOCqwsJo+J8hiU7Zs/pyZeDg4SOvCt0Zwa9Z9zF9Pun8M3nr3I+Y2+iJYS6ER3/5wnO+4eHrhXH5fGpydHbm7ejkunk9uEqH852Djxq4ld/Defj68zz7d9BZ/h66jxYHqqpS4IwPQ+J7pnNr27DuEXd98i38uD+HXyf/uBmxtrHh2u6SkVGppG8WWLZtNYNqN0bS+RpamgLkhBJnZtqAHtGUP1cXeTtEhN9Yiq0arZ9P6WklJGXfNSlg8UVRcIrXeDa3uV64lclejpSP2Sjwyb+a0+B4dZCVoB4ta9PCoi/eodECWoKUSQnuQ4JY/txBnzkVh9vwQLrSZ04Ng3GjSyoHc9SvxddaD5kTjfqFYp6q6CrcLCpF3q3lxWM5zdHN3YZO9bg6QIDSiyMzKYfF4KncvHR268La7qRNrTOxVHgY0RW4f0kJP3ohcFIstISkVhUXFzeprpaXlSE2/wc89uuuvnqUUEv/l2Gst1tfIN6cFQalF0Rck6GrmjvzRoEWG+pgwNWk+1YKnTsS/Vj4Pr54tJ4SUQmEDuYOtQWNNY07ejFwXUB8oFhtZC9ry1M+nYacDQdaO3DbaI9le0EiTrKi4mD+0kkNOylUjfipNuLvWBcQayCqRz+3Vw7PVdDutgD69vREw3L/Fg57fzdmpxffoGOJ3b72L3RqNXRhDoLikBGs3bMHwIczd2rYJF6IvY9+Bw6iRYji5kEWwsqwrs1A/tdQ/9B3k3egTEybstrbj1dTUopYd5D5aWJhLrdpDCzltpZOL4hHmMQYzsRQkNiYqOpanecnvdXN1klpbJjPrJla8vg6Ll7+h6Ni8dWe7CZKa2hrmrlTDlQW7tMVGA/n1Fy7G8g6fHDhW68SEvjFhE7OgoEjr/Xb6hoRG8RotEpQMoUVoxbKnuODCGiVN5ED1TG8vT36ekpbO/zaFrJ/SmL01XJy6oqtjl1b7kxZq8sroOleXtudoWxQVl/K5bi2zLqpYbDQ5OllasA5tiJvIdJ84fZanVGfPmNpufUezZ3H7lncVHbQ3sz2RGBsZMxfGhAezjf3rhMQUno2aMC4AQwcPkFo7Dqpd0SopJ7v6e9FUaGRxCYqFSHCRUXdnKduDxp+2NZFlj2Sxa1NPhOJoKr1QvVOf0CI/bvQIHodnZt+UWhugEhDN1bGjhsO5lTKLHPJZrEmLNSX65KBYbGMChvHVIYNZJ4I6jjJAObl5ePWlZ3RaMfQJFRuH+Q9CUnI6itlKRGRl5+CD0O0YPMgXIQvnthoAq0nPHh78lxSUmWuKxt3OY/FlRcUdftA5tVFWmFbvQinBQ1lgWrnJcmsDXf/2e6Gsrwa2mN5XKrgB/X2w8InHmNhi2OeO1JdY6PPfHT4Oezs7XgogIbb3HOTGkkgoJqOFqbiklP+igyxYY+tIIp89YwpP3m3bsY+PtwY6/+KrMO7Czpk9jT+nnO9uCSrXaLN7SvHv2ejhaMcDbd0Zxvxu+p0PBZ5Ln1lQXyw0FCjjRTFIekYmHwBaZadMGo+5jzWULJTyW2Q0TkecxZKQv0styshmIlu2YjVGBwzFIjY5G0OT4fW3NvJdEo2hFLbfQF98/OkOqaWB6VMCtbonyhAWl5Rh4vhRzYTWGJqAJLapk8fzjLAcSCTUR5u2fMHT5BR6VNy5g1Ej/LkQaQz2spjwg9Bt0icaaPwcJIDFL77Bf5fYGApn3l3zChdtY8jF+4LNz0NM1HQNQWKdGjQBcx8J5kkzQs53N0UzJmZm5vXlg/bQ+R/WoC+l9Dl9WWv1CEOAVlJyk2iRoDhEXzGavsRGmwTeYy4V7XBZ/doLrSZs/p8h0RUxb4iSUlQjlVu60RUac00tjOIrfXgytMXr+RVv8p0ptPDIQecUGHUYrXCGLDSCVmtNTU+fyRAzM+13fbQEuT6B40fz+tA15iX8EaE6HVkYbWqk+oDXy+xs+aGvkIE2IFuYm2OIFvG+zmL7s0MbckMWzZNe6YavT28MZTETbZjVd4ZOoD9oc/PR46d4FlubBIsQmwFBrjjFEtGX4vg2JoFh8nNEJK+LBk8NbDO+bYoQm4HhdY8ns5TzEfr5TlV3NwjkQYnAbw4cxlMLHr9rr6ccxL88aoBQMof+D1v086Wlzy5QNb4RtA6VBzZ+/B/87a+z+A9HtUWITSBQCeFGCgQqIcQmEKiEEJtAoBJCbAKBSgixCQQqIcQmEKiEEJtAoBJCbAKBSgixCQQqIcQmEKiEEJtAoArA/wDYB5rk3lROLQAAAABJRU5ErkJggg==)\n",
        "\n",
        "7.   **Total Error Calculation**: Sum all the individual erros to get the total error for the current epoch, once the total error is 0, it means that all the points are correctly labeled and the loop breaks.\n",
        "\n",
        "8.   **Prediction**: The current weights and bias are returned, which then can be used to apply the activation function and predict a new point."
      ],
      "metadata": {
        "id": "hmgC055Fbjo4"
      }
    },
    {
      "cell_type": "markdown",
      "source": [
        "#c) Algorithm implementation"
      ],
      "metadata": {
        "id": "jm0jdj7gty9T"
      }
    },
    {
      "cell_type": "code",
      "source": [
        "import numpy as np"
      ],
      "metadata": {
        "id": "KgCtTr2oJ5r9"
      },
      "execution_count": null,
      "outputs": []
    },
    {
      "cell_type": "code",
      "source": [
        "#define the dataset where X represents the features and y the labels\n",
        "X = np.array([[0.2, 0.3], [0.4, 0.5], [0.7, 0.1], [0.9, 0.8],\n",
        "              [0.1, 0.9], [0.8, 0.7], [0.3, 0.2], [0.6, 0.3]])\n",
        "y = np.array([0, 0, 1, 1, 0, 1, 0, 1])\n",
        "\n",
        "#parameters\n",
        "weights = np.zeros(2) #initialize weights to 0\n",
        "bias = 0  #initialize bias to 0\n",
        "lr = 0.1  #learning rate\n",
        "epochs = 100  #define 100 epochs"
      ],
      "metadata": {
        "id": "BP_2grNTJ7Iz"
      },
      "execution_count": null,
      "outputs": []
    },
    {
      "cell_type": "code",
      "source": [
        "#update the weights and bias\n",
        "for _ in range(epochs):\n",
        "    for i in range(len(y)):\n",
        "        prediction = np.dot(X[i], weights) + bias >= 0  #predict based on the formula\n",
        "        update = lr * (y[i] - prediction)  #formula for updating the parameters\n",
        "        weights += update * X[i]  #update the weights\n",
        "        bias += update  #update the bias"
      ],
      "metadata": {
        "id": "yzcP4QCrJ64m"
      },
      "execution_count": null,
      "outputs": []
    },
    {
      "cell_type": "code",
      "source": [
        "#final weights and bias\n",
        "print(\"Weights:\", weights)\n",
        "print(\"Bias:\", bias)\n",
        "\n",
        "#testing\n",
        "for i in range(8):\n",
        "    print(f\"Input: {X[i]} - Expected: {y[i]} - Predicted: {int(np.dot(X[i], weights) + bias >= 0)}\")  #compare each of the outputs with the actual labels"
      ],
      "metadata": {
        "colab": {
          "base_uri": "https://localhost:8080/"
        },
        "id": "49Bc9EnaJ6zV",
        "outputId": "385a0bc5-5507-4dea-a2a1-606bc7a9c455"
      },
      "execution_count": null,
      "outputs": [
        {
          "output_type": "stream",
          "name": "stdout",
          "text": [
            "Weights: [ 0.22 -0.06]\n",
            "Bias: -0.1\n",
            "Input: [0.2 0.3] - Expected: 0 - Predicted: 0\n",
            "Input: [0.4 0.5] - Expected: 0 - Predicted: 0\n",
            "Input: [0.7 0.1] - Expected: 1 - Predicted: 1\n",
            "Input: [0.9 0.8] - Expected: 1 - Predicted: 1\n",
            "Input: [0.1 0.9] - Expected: 0 - Predicted: 0\n",
            "Input: [0.8 0.7] - Expected: 1 - Predicted: 1\n",
            "Input: [0.3 0.2] - Expected: 0 - Predicted: 0\n",
            "Input: [0.6 0.3] - Expected: 1 - Predicted: 1\n"
          ]
        }
      ]
    },
    {
      "cell_type": "markdown",
      "source": [
        "#d) Loss Function and Optimization Function\n",
        "\n",
        "\n",
        "---\n",
        "\n"
      ],
      "metadata": {
        "id": "qc5EL49hm-O4"
      }
    },
    {
      "cell_type": "markdown",
      "source": [
        "**Loss function**\n",
        "\n",
        "The perceptron loss function is used to measure how well a model is performing, by measuring the difference between the predicted label and the actual one. The loss function shows that the loss is zero for correct predictions, and for wrong predictions, the loss is proportional to how wrong the error is, which is the dot product of the weights and features of incorrect examples.\n",
        "\n",
        "The formula is the following:"
      ],
      "metadata": {
        "id": "LpiSmpIoKKqD"
      }
    },
    {
      "cell_type": "markdown",
      "source": [
        "![image.png](data:image/png;base64,iVBORw0KGgoAAAANSUhEUgAAAVcAAAA6CAYAAAAELBooAAAAAXNSR0IArs4c6QAAAARnQU1BAACxjwv8YQUAAAAJcEhZcwAAEnQAABJ0Ad5mH3gAABkNSURBVHhe7Z0HWFTXEsfHLgIq9gZ2RbBr7Bpjj/VpYqIpmthiXiyxRg0xGktQE0s0zy4aNVgwduwNFRRB7L0goiK2WLH7zn/Yuy7LAneBxTa/79uP5dzd5e45M3Om3UuqqKiHL0gQBEFIVlIbfgqCIAjJiBhXQRAEGyDGVRAEwQaIcRUEQbABYlwFQRBsgBhXQRAEGyDGVRAEwQaIcRUEQbABYlwFQRBsgBhXQRAEGyDGVRAEwQaIcRUEQbABYlwFQRBsgBhXQRAEGyDGVRAEwQaIcRUEQbABYlwFQRBsgBhXQRAEGyDGVRAEwQaIcRUEQbAB77xxvXf/Pv0yZjIFBh00jCQ/586H0U8jJ9CNm/8aRgRb8eLFC9q9J5hGjp1CUQ8fGkYFEHH1Gg0eNpbl8V1Ejx4+e/aMZs5dTGs3bGNZSgppPDw8hhme6+Lx4yd04PBxCr1wkS5euhLrEXn9JuXI5kRp0qQxvOP15f6DB/Tr71OpfBk3ql+3BqVKlcpwJHlxcspCGTNkoElT51CVSuXJPpOd4YiQ3AQEhtDCJSuof69ulCWzo2FUuKb0crjnJGr7n2ZUtrSrYfTdQo8epk6dmlxLFKG/l66i23fuqedFE20XrP7X2rfv3GWvALsgFuzho0d8QjlzZKMM6dNT7lw5yGNgj9desLErzZq3hC5HXKXBfb+l9OnTGY7YBu3vXbgYTj8O+I7sMmY0HBGSi7Dwy+Txy+/Ur2cXKlemlGH0JZDVxcvW0CrfLcp7uUV58+Sitq2bUvPG9Wy+/q8SOES/jp9K+fLkpi4dP7GZE/EmoFcPNVnq0a0DValczjBqHVanBWA0x40cTPNnjqfG9WvzWIH8eWjaxJH014zf+dib4DEcP3mWNm/fpXbypimiWBDoFh/Wowthl2jHzr2GUSG5ePr0GXsbbqWKk3upEobRlyBK+cVzMu0/cISmThhB2329acKvHuS7YTuNHPcnH39b8Q8MpjNnQ1n+3mXDCvTqoXP+vNRI2bc5C3zYoUwM72TOFYq4at1mKlGsCBUrUtAwanvg1desVplWrN2c6AUTLHPqzHnau++A2vDrUNq0sVNS6zf50YHDx6jrV+0pV87sPJYnd076/r9fU1DIIT7+NnLv3j1avnojyx3kT9CnhzDCdWpUoZu3blHA3v2GUetIFuPqlCUzpUv35oRVoWHhPGEN6tZI0XAQC1a9akXOVx86esIwKiQVhHobt/qRS4G8VLxoIcPoS+4qA7Np6y7Ko5QKHokp+fPlphzZnchv9166d//t816PnThLZ8+F0fu1qrzzXquGXj3MmycnuZUsrmRrZ6Iim2QxrnZ2GSlNmjfHCT54+DhlyJCeihZOOa9VA8oNjyk45HCSq5FCNLf+vUMHDh0nt1IlyME+k2H0JeGXIijs0mX2WNNniLmZosCRO2cOOn8hnCKuRhpG3w4gX0gJFMiXh1N3wkv06CEcxjLuJens+TC6EnHNMKofq7sFTNkTGEInT5/jhatbuxqlS5vWcCRhEJoHhRyhv7yX0Tzvfyjs4mVycspM2Zyyxtphr9+4pVz4jTRtjjdt2b6bJ+PI8dP8GVqI91yNnTxzjuYvWkEz53qrHfs0F9g2bdtFhQs5sxKBJ0+ekM+K9Rw6NmsSu5ARfOAI/bNqPQUGH4zxQB7Zzz+QtuzwjzF+R4UVRQq70LnQi7RwyUrjOJTdWXlS9mbKjr97+OhJtWteUnNWlc/xdeDmrdsUcugor+f6LX6UPZsTOTo40KEjJ2il72aeFwgb5hvrc+vf27Rh807arNbj8pVIDrUsFQcePIiiHbv2qrlZRbP/WkxHjp1W73+hvILcMTpKtL//6NFjSpU6lQpnHyihvkBOWbPQ1Ws3lPd5X633U3r48BEbU7TMZMwYvaanzobymrVp0ZgKuRTgMVMgC/BcLcnp02dPldcayApUvUqlWJ5tSoP5Wr/Zj7arOcOcmtcvcBz5wqxOWRL0RNFm6L1kNRV0ycffG4VnDegB1tVcno+fPEOZHR1p6fJ1FLBvf4xjObJn4/XYrHTKd9N243j45QhOryVHh1B854WoBMe9l66iXQFBsY6ltyJ61quHT5TM+W7cRiWLF7U6hfhK3M1IpSz9howk3w3bqN3HLWnciEFUvqwbeYwYT14LfNhoagQGH6I+g0aoyStMEz09aMRPfTl8mzZ7IT2Iiu5jhKLNUIbXa74PfdqmGc2a4klff9GWjcRWvwB6/vw5vw48ePCQwsIv8a5lZ1BOU66pc/Pfu59WrNmojPA6pbQbaKf/Pvr39h0uCmzfuYfH8cDzULUpACi/9r71m3awoYgynJ8pMFB58+ZSBuO62jRen75XtNFNmTGfPCdMoyX/rKUTp87ScM8/6MLFS1S5Qhl6oOYc67DYZzV/z7ETp/McViznTqt8N1GXHoN5fkxBKDXMcxLNnLeY2rRsRJPGDqXmH9bjam2vgb9wt4kG/v602X/ToGFjqfVn3alth+9ohpc396oeOHSMOnTraxzv/+NodV7R8w4Q3qVVBlPbaM3B5qyHy1euGp69GjBfv02epQzIU3qkNpH+Q0Zx1VoDTsUM5Tj0U99fT68q5Atyhk3F3PA9UzphLs9r1m3lMBmyDPmFHGMcMo01xziAzGvvw098Dj4vOdDOC/lznI92bgGBB9gu4LH/4FHWS5wf+tOPHDsVw2boQa8eZlfOXtYsmemUctysJcWNKxLIQ0dNROKD+vfqTIULFuDdsFb1yvTzoN48aYuWrWZBwi4FA4y2Gig4JsQ+Uyb6T/NG/HoNuOxb/fx5PF/e3LxDQ/G7dvyUe25Nuak8Lng+8GQt7bRNGr5P82f8zoURAMPcoX0bqlq5PA38/hsaP9qDvTrQoG4t6vxlW35errQr/dCnO6VNk5Z+6NudK9IFXfLzMXNwTlCkO3fvGUbiB0rfc8AwZWD6Jeox4c85PJfxgfP/e/ZE6vhZG/593t/LqGP71tSqWUOqVL40dfz8Y3IpkI+8FvqwZ4V2u2rvlacaVSup93zErU3wZkyJvHaTTp8JpauR19X3fcjrXEFton16dFae/gWaqz4LGyPA30e3ybzpv/FnIqJo91EL9tw+UF5XhbLu1FxFGqsWzeTzxOs1sAHAG4V8vKlA3leu3URVKpZVG1FjyqA2fnjsEVevG14R7YmeOHmO5xERngbW1lJO8Oatf1nfMtnFTpVA/iHPf44fYfTWEWX17v41zy3k99suX/A49GlA727GOe/S4RNqWK82vw/vx+dokWFS0c4L3UhDB/Uyfi6iFrSUQf/hpWIOJnr+FGeHEiJZ5NrxMy706KG9vR1HSDdv3k5Qh8xJceMKY3ni1Bk2jg4q7DQFhrZUyaJc3bwYfkWFbM/o4aOHHNahr1YDLj3abbT8GvoXEU7u2RfCC6CRObMDuZYophTvpRGFMsNgujhbNnwARrfBB7WMKQOkIjThvaEEFosGdu8J4osmAJQDRTJnZYDKusXfpI0CCs4T56wH9GOO/rk/e36JeXTv/Jluw6MpYvUqFaioSRhkZ5dBbVg52ENo3vgDFnINO7voZmxsAqZXRUH5oKDffN1erVcxwyixkUaeE+Ecwn9T8Lm9unfkEHTytLnsuYUozxXj33b5nDJZaPx+ps4pSxZHtem9NDhvGtjwkTKpojZxRGbHjp9iTzyfWnsNLXeM1IejQ/T8Q+HHTJjOPZnmBvbZs+cs65DJuMiVIxtXzgE2SMg0gDxDBwFkFakAbSO8ffsuBe0/zO/D+/WAz0CtA7ltfLYeIIPdlOzAuJ85F6qchNn099KVKkzfzr3MxSwULzW2Kp39rFOfeD1OPXoIvUHBHnYI9sgaUsS4Ii+HCj0U7+CR4zxW0Dl2boxSwbCl5kVGWIJdq2jhQpzP/LxLH/qq+wCaMv0v9RknqFXzhuTmGq2wuIABOTzs/C0/7crhKxbh7t37anHaxTLieihS0Nl4jqeU9wXBhnBByDQDjlD2hDIQAEYWglmvTjVW9PjQjJFekFtD/hO7dWIeiblgwTl/Pos5PUcHe8pmZsSyOWWx2NuMTbBRvVrUvm1LZbTt2ItCiI/8LVI6ENbnL2KHk4g60LyNK2R+HP4befusov92/SKGQX+dQHrDf2+w1Y+gkMPsGIBMmTKyR+iUNTPnf4+fOkvvKS8WFWsNtJsh5+ruVty4WSId0rhBHfqmU/tEzQ/WuKqKQDRHYt/+Q2ykNXnWCFGhuJZeOXTshIpGrtEHStYTyvtqLFu5jnr/8Av17D+Mv4ce8NktmzbgflOA1MTchcvUPH3Khjc+3FyLKwPciYop+xEXevQQ9ggF+8Rgc+MK4dkbFJ0vQTHickTcFVkYAXg0ADklTO5nn7Sgpo3q8hgMtA8WaeBwGuAx2niNMBR74PfduLCEvwdPZ4bXIvqiax8OPWPmY17o2jlhIGEoAcKxbX572Jju2XeAPmrVhHPAYPN2fza2QUooYTA0L0CIBsYAa9CqXTfq1msIF48wnwkB5fmo1Yc85+XLuPMGagmsZUL5Phh5Peh9nS2AIwH5BYiAILPV1BxoqSts7IjgYATRn60BHYERdlURmjmap5kQJYoVotKGCy+OKI8ZzgTkGd505w5t+W9Cb7EZQNY3btlF5cq4qUjTmd9jDTBW1hS+sCadv/yEihWJNpIoWmHzTcioIz1Yt3b1V7qmNjeuCFtQ2IHHkzpVakobz8SaKkomQ8iP3Rg5mOULp9Goof05B5jZ0YGCQ47Q0uW+RkNZpJAzF7IWzJzAr0c+EOCqncPHTvLzaFIluDAaMJRafhW7OIQKtGra0Gh4saPj85E6wG6JhU+IqKgowzN94DsiFYEKfWIer+oGJvDoULha5LOGQ31vrz+o17dfcQ4Vuaz4QEj76HG0V7d0+VraF3yIn5uDtUxjUgW3RIH8eWNUyi2B43hdYoDhR57Y2gfqCOa5Smw88O7Rk1vCsIEDpE9Onw1l5wOtVQAygRD59NnzFh0GvUYMOla/bk1+DuO5ynczy3uFcshz1zcaXsg4ZB0yD/3SvF09YKOcNGYo/TH2Z6ur7rdv32E5BnCefp88K1bxVAObEu4vsStgnzHCjAs9egg5tFSY1oPNjeuZc2GcL8VCIPRxKRCd67xoUgXVwMRdv3GTBR0hP37/c+YCzuXBk6xZrRL1+a4TeU0dxznXwOADdEeFjmhNmT7Hm549fcqVUXi6nsN/4Ef6dOlpp3+g4S9ECxw+P+ziJcNI3KDBXDPS8KCQasDvGNcML5Rh/JTZyqs4o8KXl3na+EB4hdeh11YPV5TXMESFx72VoUrMA1V4a5PxSQXKjhuoIFfW7uPmrLypLWxqEF7k4M29WaRf8L1RtEChZcbcRTG6C0xJo7wT5AHjutsRDBLya+hSefwo5jxo0RSOa1HTq+Rq5A26cjWSCimv0DS9hHtgRERe597szI72/F0RIqNdCzlXpBLMgZcIWbeka+ZUVt6vVtja5hfAERrkGWklzfDCq4WsI3WB11sD5B2F6biKvHGBNfdU3w/ngY0ZmxHShhgzlwd46t4+K3nD3bRtN61et8VwxDJ69BB6c0sZ94wZMsbrGFrCpsYVuRt4l5gYTAryRDB8eH4uNCxW2AJDiX5XhD1l3V1ZQS+GX+Iw3xQULoqpEAreMBQLvWh7g0JiNfoWVa/Jlg15x8yGEaJsnIdEgvpRrL9vjnlhCz/xO8ZNDe+lyxG6Clka15VwoL0DbR56QIgzedwwrowm5oENKaUr6ZhfrQjp5loiRrQAwwBjCB4r4V26fH2Mqji8Elye3PObjtyih64PyMv/Zi2w6I0UdM7PMhDXBoLCEPoUUSjS2ok07t+PYgMLecud62Ur15lzF6jTdz/QiDFTYhWKUoKcytiberXYvE3zrSEHj6gIAGFvWk5Hmb5WAx0FSJk9iEr4/E0LWwBGXJNnzfBi7iHr1hSykgLmHZ0u8FoH9fmGWjdvZFbgmhNjbS5dvsoFWRTFryp5Mu8xN0ePHmrygbYta3XIauOK1gYUJqAgdwyCel09xy5iGorCNe85YDgn7vnqLYNuVSxfmlo0bUDbdu7h12jhDBZu8T9rVCj4hPr37ByjQILuAdNuAUzolchrVFotvnbbMJwPLjQwVT54wegXLOv+8g5JmveMz4tSxxLCtLBVpKCLCmmi82IwsMiJYaGBnkIWgAG4ciWS8ubOSVlNjP6rhndow9oB7TkqqQg/b6r5hXGCEUPDP2QA74GRxO8Yx3G8DuuD/HnxotG5Qf+9Qca8N9Znw2Y/Nr747PvKY0UjP7wCrCE81oFDPZWhezk/KLhUrliGL0ZYsnwtv85UqeDloVUHnqklsCl+3KoJb97oKNFkDj+379rDvc9tWjaJoTxoHEfef9vOAO6rTCkcHR047YX+Sy2dc+L0WU5v4Xto+VYYOER3yM8ifWC6MWjkyJ6VvXGtGBsf2PxMC1uYb02ecyhnRrtNoYO9vVWFLGuBfKDgCbvxx9S5/LOhcmjy5InOs9asXlltlJpcBXMvNmQG3xHFv5ZN63MB/I6SWS2dYQm9eojuIPS4uxr+pjVYfYUW/lCvgcNppgrTQi+E8xj66WAAcTs37YH8jKao6JOsXaMKP4cxwsIVdM7HnsjSFb602ncLX92EsHHYkO+NiXIozO49+9lLXLh4JR0+dorvaoQrtZC36fTlx0oY0rNyH1UhSwa1e3vNX8rnhbBgkc9qvpgA6QRNGGAUEW7uCzlM79esyu1a8YEeNxgALDiq3vCkNLDrhRw8RmlSp6LOyruyVDE3BxVwbCLo20TRxlZCai3BB45Slx6DjNda4yfWEcWOOWpO/5g2j40XGtxx1RsEG5tU38Ejac36LTyO4+hTvn/vgfpuFVn5kUNHE7qf/z7OGeIKOtxNDV7X1h3+3OGBHHYqJRddew7m12HTwxqWLV2K137arIXqtQFsDGHocJGD9jcA5tB/TzDn6ZHHtATCZ6RxZv+1RG2skazEkD3cFauf2sxRFDJdC3iCSDuho6FUiWL8XVICtBei9Q7ziCuIMEcbt+7ijQHf4ZPWzbh6nS5dWqVfd/j7tG7RyFgMMwUbFq64Ox8azgYxoasBkW44qnQMnnD3zp8be2mhszgvXDAAA9ziw/qsR7YAPafDfp3E319LdSAlh80E5wMPHldoacBbhczkz5dHOVsl+VyhX+hgadKgjtH5MUevHu4OCOLuBu651uE8mWL1/VyTEygLcm3wamDEzFuGcBwuOY7hJO+qiUffHhba1MvA++H9QCGwI8GDwqTCC7CU54PA9Rsymgb07krv16pqGE0Z0Eb24/BxNOKnftxQ/y4ADwzriIImQjWtgotxGICkpizglSEXGK6UcNTPA4z9z5bAXaKC1EaJWgBSAWVLl7QYUmsgukLOHx0iKYkmx5iri+ER1N9jNNVWXhuKtZph2xmwj2Z6LaJxo4bQBbUZwcAid2wKXjNm/HQaN3KQCpdTZoN4leDCiwE/jqauX7ejwi7O7AyWdovtwerRQ6zBqHH/Ywfhp4E9jF69Xmyac00I7BZa/6alXkwcxy6NnzCS8AzxWnNlhABqCoJjeA1ea8mwAnjGFcq5G9uoUgpsFhzGFSvMHuG7AtaW10Tt/KatMRhPqmEFMDbIhcPTgXccH+h5rlurGveUVqlUNl7DCnChQ3zN6skJwtnuvT1o3KQZ/DvmDP3BuO8woji0Fpl6jEHBh6hieXf1mgzqu1/gdII5yJvCE96xK5Dl720HxW04VribFXrlLUWmevUQNZxjJ0/rLlSb80qN66tCy8GhbxCFi5QCl4GixaVlswavbUP8m4q7a3F6r1I52rDFjyOZ5AB5+VClrIWsrHAnFqRbkF9FNVy7Gmhv0EFOXaCZHqkLUwoXclGe2T1ODeC7WzIA2NA+atmY5Q7y97aD/DA2mWUr17OR1TogTNGjhzDAuFETNqYKFv6rhR6SdFesNxn0Jt64dZtvlFyjSkWb5ZA0sFjo93RwtOf8TVy5ICFxYP1clCIhHwePRE+/cXyg4Ib7K9Su/h5/Xkpw+sx5Ltb1792V88MwrGMmTFNeeU2ukpsbTxR2KlcozfIb10UWIH/+PJxDR5sXbrQTV37xbQD/J6tunWpUxr0Et2uaf1e9eog8r9eCpdSr+1ecz00M76xxxaTienck6dGgnZR/RKYH5O5wQ+e+PbpwC5mQ/ECxcBk0lCKp/wgSRR2HTPb8/5NSyhgVVyEqcoQo9HovXU337kdxsa1pow8s3s4T54UiVUKOAd5bxt2VLyNGUQi3wnybwfeN6/aDevQQnSgT/5zD6aPaNd5L9Pq/0oLW60D0RQBzqEn9Oon+R2QJgZYer4XL+F+KvMk3F3kTgGeCa9DRCN+vVxeLufx3FaQ5Jk31oq4d21nsLnjb0aOHKI7Ome9D+fLm4p78pGys77xxFQRBsAWS+BMEQbABYlwFQRBsgBhXQRAEGyDGVRAEwQaIcRUEQbABYlwFQRBsgBhXQRAEGyDGVRAEwQaIcRUEQbABYlwFQRBsgBhXQRAEGyDGVRAEIdkh+j/B0z7KRUVdGAAAAABJRU5ErkJggg==)"
      ],
      "metadata": {
        "id": "jQxCqD9mKLcF"
      }
    },
    {
      "cell_type": "markdown",
      "source": [
        "Where\n",
        "\n",
        "*   **w**: the weight vector\n",
        "\n",
        "*   **x*i***: The feature vector of the *i* example\n",
        "\n",
        "*   **y*i***: The actual label of the *i* example\n"
      ],
      "metadata": {
        "id": "pm05iRSVPV-K"
      }
    },
    {
      "cell_type": "markdown",
      "source": [
        "**Optimization function**\n",
        "\n",
        "The role of the optimization function is to minimize the previously described loss function. To do so, it adjusts the parameters of the model, which in this case would be the weights and the bias. It iterates each time over these parameters until there is no error or the epochs are finished.\n",
        "\n",
        "The weights update formula is the following:\n",
        "\n",
        "![image.png](data:image/png;base64,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)\n",
        "\n",
        "The bias update formula is the following:\n",
        "\n",
        "\n",
        "![image.png](data:image/png;base64,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)"
      ],
      "metadata": {
        "id": "8bIaHdKFQPe7"
      }
    },
    {
      "cell_type": "code",
      "source": [
        "!jupyter nbconvert --to html \"Perceptron_RafaelMari.ipynb\""
      ],
      "metadata": {
        "colab": {
          "base_uri": "https://localhost:8080/"
        },
        "id": "kwHhFUZzS-Kn",
        "outputId": "b84240bd-26f9-414d-b712-b04cdeda74a0"
      },
      "execution_count": null,
      "outputs": [
        {
          "output_type": "stream",
          "name": "stdout",
          "text": [
            "[NbConvertApp] Converting notebook Perceptron_RafaelMari.ipynb to html\n",
            "[NbConvertApp] Writing 630316 bytes to Perceptron_RafaelMari.html\n"
          ]
        }
      ]
    }
  ]
}